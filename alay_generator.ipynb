{
 "cells": [
  {
   "cell_type": "code",
   "execution_count": 1,
   "metadata": {},
   "outputs": [
    {
     "name": "stdout",
     "output_type": "stream",
     "text": [
      "Enter a word:diponegoro\n",
      "0r0gen0p1d0@1\n"
     ]
    }
   ],
   "source": [
    "origin = input('Enter a word:')\n",
    "\n",
    "word = origin.lower()\n",
    "new_word =\"\"\n",
    "\n",
    "for x in range(len(word)):\n",
    "    new_letter = origin[len(word)-1-x]\n",
    "    new_word = new_word + new_letter\n",
    "    if new_letter == 'i':\n",
    "        new_word = new_word[0:len(new_word)-1] + '1'\n",
    "    elif new_letter == 'a':\n",
    "        new_word = new_word[0:len(new_word)-1] + '@'\n",
    "    elif new_letter == 'o':\n",
    "        new_word = new_word[0:len(new_word)-1] + '0'\n",
    "\n",
    "new_word = new_word + \"0@1\"\n",
    "print(new_word)"
   ]
  },
  {
   "cell_type": "code",
   "execution_count": null,
   "metadata": {},
   "outputs": [],
   "source": []
  }
 ],
 "metadata": {
  "kernelspec": {
   "display_name": "Python 3",
   "language": "python",
   "name": "python3"
  },
  "language_info": {
   "codemirror_mode": {
    "name": "ipython",
    "version": 3
   },
   "file_extension": ".py",
   "mimetype": "text/x-python",
   "name": "python",
   "nbconvert_exporter": "python",
   "pygments_lexer": "ipython3",
   "version": "3.7.3"
  }
 },
 "nbformat": 4,
 "nbformat_minor": 2
}
